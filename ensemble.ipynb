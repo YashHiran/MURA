{
 "cells": [
  {
   "cell_type": "markdown",
   "metadata": {},
   "source": [
    "# Abnormality Detection in Musculoskeletal Radiographs"
   ]
  },
  {
   "cell_type": "code",
   "execution_count": 1,
   "metadata": {},
   "outputs": [
    {
     "name": "stderr",
     "output_type": "stream",
     "text": [
      "Using TensorFlow backend.\n"
     ]
    }
   ],
   "source": [
    "from keras.applications.densenet import DenseNet169, DenseNet121, preprocess_input\n",
    "from keras.preprocessing.image import ImageDataGenerator, load_img, image\n",
    "from keras.models import Sequential, Model, load_model, Input\n",
    "from keras.layers import Conv2D, MaxPool2D\n",
    "from keras.layers import Activation, Dropout, Flatten, Dense, average\n",
    "from keras.callbacks import EarlyStopping, ReduceLROnPlateau, ModelCheckpoint, Callback\n",
    "from keras import regularizers\n",
    "import pandas as pd\n",
    "from tqdm import tqdm\n",
    "import os\n",
    "import numpy as np\n",
    "import random\n",
    "from keras.optimizers import Adam\n",
    "import keras.backend as K\n",
    "import cv2\n",
    "import matplotlib.pyplot as plt"
   ]
  },
  {
   "cell_type": "code",
   "execution_count": 16,
   "metadata": {},
   "outputs": [],
   "source": [
    "def ensemble(models, model_input):\n",
    "    # collect outputs of models in a list\n",
    "    yModels=[model(model_input) for model in models] \n",
    "    # averaging outputs\n",
    "    yAvg=average(yModels) \n",
    "    # build model from same input and avg output\n",
    "    modelEns = Model(inputs=model_input, outputs=yAvg,    name='ensemble')  \n",
    "   \n",
    "    return modelEns"
   ]
  },
  {
   "cell_type": "code",
   "execution_count": 6,
   "metadata": {},
   "outputs": [],
   "source": [
    "models=[]\n",
    "model_xr_elbow = load_model(\"densenet_mura_rs_v3_xr_elbow.h5\")\n",
    "model_xr_elbow.name = 'model_xr_elbow'\n",
    "model_xr_finger = load_model(\"densenet_mura_rs_v3_xr_finger.h5\")\n",
    "model_xr_finger.name = 'model_xr_finger'\n",
    "model_xr_forearm = load_model(\"densenet_mura_rs_v3_xr_forearm.h5\")\n",
    "model_xr_forearm.name = 'model_xr_forearm'\n",
    "model_xr_hand = load_model(\"densenet_mura_rs_v3_xr_hand.h5\")\n",
    "model_xr_hand.name = 'model_xr_hand'\n",
    "model_xr_shoulder = load_model(\"densenet_mura_rs_v3_xr_shoulder.h5\")\n",
    "model_xr_shoulder.name = 'model_xr_shoulder'\n",
    "model_xr_wrist = load_model(\"densenet_mura_rs_v3_xr_wrist.h5\")\n",
    "model_xr_wrist.name = 'model_xr_wrist'\n",
    "model_xr_humerus = load_model(\"densenet_mura_rs_v3_xr_humerus.h5\")\n",
    "model_xr_humerus.name = 'model_xr_humerus'\n",
    "\n",
    "models.append(model_xr_elbow)\n",
    "models.append(model_xr_finger)\n",
    "models.append(model_xr_forearm)\n",
    "models.append(model_xr_hand)\n",
    "models.append(model_xr_shoulder)\n",
    "models.append(model_xr_wrist)\n",
    "models.append(model_xr_humerus)\n"
   ]
  },
  {
   "cell_type": "code",
   "execution_count": null,
   "metadata": {},
   "outputs": [],
   "source": [
    "model_input = Input(shape=models[0].input_shape[1:]) # c*h*w\n",
    "modelEns = ensemble(models, model_input)"
   ]
  },
  {
   "cell_type": "code",
   "execution_count": 18,
   "metadata": {},
   "outputs": [
    {
     "name": "stdout",
     "output_type": "stream",
     "text": [
      "__________________________________________________________________________________________________\n",
      "Layer (type)                    Output Shape         Param #     Connected to                     \n",
      "==================================================================================================\n",
      "input_5 (InputLayer)            (None, None, None, 3 0                                            \n",
      "__________________________________________________________________________________________________\n",
      "model_xr_elbow (Model)          (None, 1)            12644545    input_5[0][0]                    \n",
      "__________________________________________________________________________________________________\n",
      "model_xr_finger (Model)         (None, 1)            12644545    input_5[0][0]                    \n",
      "__________________________________________________________________________________________________\n",
      "model_xr_forearm (Model)        (None, 1)            12644545    input_5[0][0]                    \n",
      "__________________________________________________________________________________________________\n",
      "model_xr_hand (Model)           (None, 1)            12644545    input_5[0][0]                    \n",
      "__________________________________________________________________________________________________\n",
      "model_xr_shoulder (Model)       (None, 1)            12644545    input_5[0][0]                    \n",
      "__________________________________________________________________________________________________\n",
      "model_xr_wrist (Model)          (None, 1)            12644545    input_5[0][0]                    \n",
      "__________________________________________________________________________________________________\n",
      "model_xr_humerus (Model)        (None, 1)            12644545    input_5[0][0]                    \n",
      "__________________________________________________________________________________________________\n",
      "average_1 (Average)             (None, 1)            0           model_xr_elbow[3][0]             \n",
      "                                                                 model_xr_finger[3][0]            \n",
      "                                                                 model_xr_forearm[3][0]           \n",
      "                                                                 model_xr_hand[3][0]              \n",
      "                                                                 model_xr_shoulder[3][0]          \n",
      "                                                                 model_xr_wrist[3][0]             \n",
      "                                                                 model_xr_humerus[3][0]           \n",
      "==================================================================================================\n",
      "Total params: 88,511,815\n",
      "Trainable params: 87,403,015\n",
      "Non-trainable params: 1,108,800\n",
      "__________________________________________________________________________________________________\n"
     ]
    }
   ],
   "source": [
    "modelEns.summary()"
   ]
  },
  {
   "cell_type": "code",
   "execution_count": 47,
   "metadata": {},
   "outputs": [],
   "source": [
    "modelEns.save(\"densenet_mura_rs_v3_ensemble.h5\")"
   ]
  }
 ],
 "metadata": {
  "kernelspec": {
   "display_name": "Python 3",
   "language": "python",
   "name": "python3"
  },
  "language_info": {
   "codemirror_mode": {
    "name": "ipython",
    "version": 3
   },
   "file_extension": ".py",
   "mimetype": "text/x-python",
   "name": "python",
   "nbconvert_exporter": "python",
   "pygments_lexer": "ipython3",
   "version": "3.7.3"
  }
 },
 "nbformat": 4,
 "nbformat_minor": 2
}
